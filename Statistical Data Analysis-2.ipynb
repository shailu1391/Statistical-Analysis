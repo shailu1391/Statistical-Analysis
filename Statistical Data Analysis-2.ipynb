{
 "cells": [
  {
   "cell_type": "markdown",
   "id": "89cba5bc",
   "metadata": {},
   "source": [
    "# Data & Sampling Distributions"
   ]
  },
  {
   "cell_type": "markdown",
   "id": "abfe1ada",
   "metadata": {},
   "source": [
    "Random Sampling\n",
    "\n",
    "sample - portion of data that is usually taken when it is too difficult to process the whole data set.\n",
    "\n",
    "For example, click stream data \n",
    "\n",
    "population - totality of the dataset\n",
    "\n",
    "random sampling - randomly picking portions of population\n",
    "\n",
    "stratified sampling -- stratify and then pick portions eg: sampling population by age\n",
    "\n",
    "bias - error\n",
    "\n",
    "sampling bias - sample that mis represents the population\n",
    "\n",
    "$\\bar x$   - mean of sample\n",
    "mu - mean of population\n",
    "\n",
    "**selection bias**\n",
    "\n",
    "-- bias that arises from how the observations in the data are selected \n",
    "\n",
    "Data snooping -- looking through data to find something useful\n",
    "\n",
    "vast serach effect -- over searching data can result in finding outliers as potential features\n",
    "\n",
    "target shuffling -- a method to overcome vast search effect\n",
    "\n",
    "**sampling distribution of a statistic** - calculating statistics of the sample\n",
    "\n",
    "\n"
   ]
  },
  {
   "cell_type": "code",
   "execution_count": 1,
   "id": "2da54e64",
   "metadata": {},
   "outputs": [],
   "source": [
    "import pandas as pd\n",
    "import numpy as np"
   ]
  },
  {
   "cell_type": "code",
   "execution_count": 2,
   "id": "db75cabb",
   "metadata": {},
   "outputs": [],
   "source": [
    "players = pd.read_csv(\"players.csv\")"
   ]
  },
  {
   "cell_type": "code",
   "execution_count": 3,
   "id": "e5c884e6",
   "metadata": {},
   "outputs": [
    {
     "name": "stdout",
     "output_type": "stream",
     "text": [
      "<class 'pandas.core.frame.DataFrame'>\n",
      "RangeIndex: 2732 entries, 0 to 2731\n",
      "Data columns (total 7 columns):\n",
      " #   Column       Non-Null Count  Dtype \n",
      "---  ------       --------------  ----- \n",
      " 0   nflId        2732 non-null   int64 \n",
      " 1   height       2732 non-null   object\n",
      " 2   weight       2732 non-null   int64 \n",
      " 3   birthDate    2715 non-null   object\n",
      " 4   collegeName  2724 non-null   object\n",
      " 5   Position     2732 non-null   object\n",
      " 6   displayName  2732 non-null   object\n",
      "dtypes: int64(2), object(5)\n",
      "memory usage: 149.5+ KB\n"
     ]
    }
   ],
   "source": [
    "players.info()"
   ]
  },
  {
   "cell_type": "code",
   "execution_count": 5,
   "id": "88ca0160",
   "metadata": {},
   "outputs": [
    {
     "data": {
      "text/html": [
       "<div>\n",
       "<style scoped>\n",
       "    .dataframe tbody tr th:only-of-type {\n",
       "        vertical-align: middle;\n",
       "    }\n",
       "\n",
       "    .dataframe tbody tr th {\n",
       "        vertical-align: top;\n",
       "    }\n",
       "\n",
       "    .dataframe thead th {\n",
       "        text-align: right;\n",
       "    }\n",
       "</style>\n",
       "<table border=\"1\" class=\"dataframe\">\n",
       "  <thead>\n",
       "    <tr style=\"text-align: right;\">\n",
       "      <th></th>\n",
       "      <th>nflId</th>\n",
       "      <th>height</th>\n",
       "      <th>weight</th>\n",
       "      <th>birthDate</th>\n",
       "      <th>collegeName</th>\n",
       "      <th>Position</th>\n",
       "      <th>displayName</th>\n",
       "    </tr>\n",
       "  </thead>\n",
       "  <tbody>\n",
       "    <tr>\n",
       "      <th>0</th>\n",
       "      <td>42901</td>\n",
       "      <td>6-1</td>\n",
       "      <td>208</td>\n",
       "      <td>1992-07-25</td>\n",
       "      <td>James Madison</td>\n",
       "      <td>SS</td>\n",
       "      <td>Dean Marlowe</td>\n",
       "    </tr>\n",
       "    <tr>\n",
       "      <th>1</th>\n",
       "      <td>43501</td>\n",
       "      <td>6-0</td>\n",
       "      <td>220</td>\n",
       "      <td>1994-08-11</td>\n",
       "      <td>Central Michigan</td>\n",
       "      <td>FS</td>\n",
       "      <td>Kavon Frazier</td>\n",
       "    </tr>\n",
       "    <tr>\n",
       "      <th>2</th>\n",
       "      <td>43534</td>\n",
       "      <td>6-0</td>\n",
       "      <td>205</td>\n",
       "      <td>1993-06-02</td>\n",
       "      <td>Illinois</td>\n",
       "      <td>SS</td>\n",
       "      <td>Clayton Fejedelem</td>\n",
       "    </tr>\n",
       "    <tr>\n",
       "      <th>3</th>\n",
       "      <td>43535</td>\n",
       "      <td>6-1</td>\n",
       "      <td>235</td>\n",
       "      <td>1992-12-22</td>\n",
       "      <td>Temple</td>\n",
       "      <td>MLB</td>\n",
       "      <td>Tyler Matakevich</td>\n",
       "    </tr>\n",
       "    <tr>\n",
       "      <th>4</th>\n",
       "      <td>44174</td>\n",
       "      <td>6-1</td>\n",
       "      <td>236</td>\n",
       "      <td>1993-02-22</td>\n",
       "      <td>Texas Tech</td>\n",
       "      <td>ILB</td>\n",
       "      <td>Sam Eguavoen</td>\n",
       "    </tr>\n",
       "  </tbody>\n",
       "</table>\n",
       "</div>"
      ],
      "text/plain": [
       "   nflId height  weight   birthDate       collegeName Position  \\\n",
       "0  42901    6-1     208  1992-07-25     James Madison       SS   \n",
       "1  43501    6-0     220  1994-08-11  Central Michigan       FS   \n",
       "2  43534    6-0     205  1993-06-02          Illinois       SS   \n",
       "3  43535    6-1     235  1992-12-22            Temple      MLB   \n",
       "4  44174    6-1     236  1993-02-22        Texas Tech      ILB   \n",
       "\n",
       "         displayName  \n",
       "0       Dean Marlowe  \n",
       "1      Kavon Frazier  \n",
       "2  Clayton Fejedelem  \n",
       "3   Tyler Matakevich  \n",
       "4       Sam Eguavoen  "
      ]
     },
     "execution_count": 5,
     "metadata": {},
     "output_type": "execute_result"
    }
   ],
   "source": [
    "players.head()"
   ]
  },
  {
   "cell_type": "markdown",
   "id": "d9f2e95a",
   "metadata": {},
   "source": [
    "### Central Limit Theorem\n",
    "\n",
    "- it says that the means of samples drawn from the data when plotted will resemble a bell shaped normal curve "
   ]
  },
  {
   "cell_type": "code",
   "execution_count": 6,
   "id": "b6c91e66",
   "metadata": {},
   "outputs": [],
   "source": [
    "##demonstrating central limit theorem on the nfl dataset\n",
    "##cleaning the heights "
   ]
  },
  {
   "cell_type": "code",
   "execution_count": 21,
   "id": "bea202bd",
   "metadata": {},
   "outputs": [
    {
     "data": {
      "text/plain": [
       "0        [6, 1]\n",
       "1        [6, 0]\n",
       "2        [6, 0]\n",
       "3        [6, 1]\n",
       "4        [6, 1]\n",
       "         ...   \n",
       "2727     [6, 3]\n",
       "2728     [6, 3]\n",
       "2729     [5, 9]\n",
       "2730       [73]\n",
       "2731    [5, 10]\n",
       "Name: height, Length: 2732, dtype: object"
      ]
     },
     "execution_count": 21,
     "metadata": {},
     "output_type": "execute_result"
    }
   ],
   "source": [
    "players[\"height\"].apply(lambda x:x.split(\"-\"))"
   ]
  },
  {
   "cell_type": "code",
   "execution_count": 20,
   "id": "24ba579b",
   "metadata": {},
   "outputs": [
    {
     "data": {
      "text/plain": [
       "0       73\n",
       "1       72\n",
       "2       72\n",
       "3       73\n",
       "4       73\n",
       "        ..\n",
       "2727    75\n",
       "2728    75\n",
       "2729    69\n",
       "2730    73\n",
       "2731    70\n",
       "Name: height, Length: 2732, dtype: int64"
      ]
     },
     "execution_count": 20,
     "metadata": {},
     "output_type": "execute_result"
    }
   ],
   "source": [
    "players[\"height\"].apply(lambda x:int(x.split(\"-\")[0])*12+ int(x.split(\"-\")[1]) if len(x.split(\"-\")) ==2 else int(x.split(\"-\")[0]))"
   ]
  },
  {
   "cell_type": "code",
   "execution_count": 22,
   "id": "ad1a6987",
   "metadata": {},
   "outputs": [],
   "source": [
    "players[\"height(inches)\"] =players[\"height\"].apply(lambda x:int(x.split(\"-\")[0])*12+ int(x.split(\"-\")[1]) if len(x.split(\"-\")) ==2 else int(x.split(\"-\")[0]))"
   ]
  },
  {
   "cell_type": "code",
   "execution_count": 23,
   "id": "688bb556",
   "metadata": {},
   "outputs": [
    {
     "data": {
      "text/html": [
       "<div>\n",
       "<style scoped>\n",
       "    .dataframe tbody tr th:only-of-type {\n",
       "        vertical-align: middle;\n",
       "    }\n",
       "\n",
       "    .dataframe tbody tr th {\n",
       "        vertical-align: top;\n",
       "    }\n",
       "\n",
       "    .dataframe thead th {\n",
       "        text-align: right;\n",
       "    }\n",
       "</style>\n",
       "<table border=\"1\" class=\"dataframe\">\n",
       "  <thead>\n",
       "    <tr style=\"text-align: right;\">\n",
       "      <th></th>\n",
       "      <th>nflId</th>\n",
       "      <th>height</th>\n",
       "      <th>weight</th>\n",
       "      <th>birthDate</th>\n",
       "      <th>collegeName</th>\n",
       "      <th>Position</th>\n",
       "      <th>displayName</th>\n",
       "      <th>height(inches)</th>\n",
       "    </tr>\n",
       "  </thead>\n",
       "  <tbody>\n",
       "    <tr>\n",
       "      <th>0</th>\n",
       "      <td>42901</td>\n",
       "      <td>6-1</td>\n",
       "      <td>208</td>\n",
       "      <td>1992-07-25</td>\n",
       "      <td>James Madison</td>\n",
       "      <td>SS</td>\n",
       "      <td>Dean Marlowe</td>\n",
       "      <td>73</td>\n",
       "    </tr>\n",
       "    <tr>\n",
       "      <th>1</th>\n",
       "      <td>43501</td>\n",
       "      <td>6-0</td>\n",
       "      <td>220</td>\n",
       "      <td>1994-08-11</td>\n",
       "      <td>Central Michigan</td>\n",
       "      <td>FS</td>\n",
       "      <td>Kavon Frazier</td>\n",
       "      <td>72</td>\n",
       "    </tr>\n",
       "    <tr>\n",
       "      <th>2</th>\n",
       "      <td>43534</td>\n",
       "      <td>6-0</td>\n",
       "      <td>205</td>\n",
       "      <td>1993-06-02</td>\n",
       "      <td>Illinois</td>\n",
       "      <td>SS</td>\n",
       "      <td>Clayton Fejedelem</td>\n",
       "      <td>72</td>\n",
       "    </tr>\n",
       "    <tr>\n",
       "      <th>3</th>\n",
       "      <td>43535</td>\n",
       "      <td>6-1</td>\n",
       "      <td>235</td>\n",
       "      <td>1992-12-22</td>\n",
       "      <td>Temple</td>\n",
       "      <td>MLB</td>\n",
       "      <td>Tyler Matakevich</td>\n",
       "      <td>73</td>\n",
       "    </tr>\n",
       "    <tr>\n",
       "      <th>4</th>\n",
       "      <td>44174</td>\n",
       "      <td>6-1</td>\n",
       "      <td>236</td>\n",
       "      <td>1993-02-22</td>\n",
       "      <td>Texas Tech</td>\n",
       "      <td>ILB</td>\n",
       "      <td>Sam Eguavoen</td>\n",
       "      <td>73</td>\n",
       "    </tr>\n",
       "  </tbody>\n",
       "</table>\n",
       "</div>"
      ],
      "text/plain": [
       "   nflId height  weight   birthDate       collegeName Position  \\\n",
       "0  42901    6-1     208  1992-07-25     James Madison       SS   \n",
       "1  43501    6-0     220  1994-08-11  Central Michigan       FS   \n",
       "2  43534    6-0     205  1993-06-02          Illinois       SS   \n",
       "3  43535    6-1     235  1992-12-22            Temple      MLB   \n",
       "4  44174    6-1     236  1993-02-22        Texas Tech      ILB   \n",
       "\n",
       "         displayName  height(inches)  \n",
       "0       Dean Marlowe              73  \n",
       "1      Kavon Frazier              72  \n",
       "2  Clayton Fejedelem              72  \n",
       "3   Tyler Matakevich              73  \n",
       "4       Sam Eguavoen              73  "
      ]
     },
     "execution_count": 23,
     "metadata": {},
     "output_type": "execute_result"
    }
   ],
   "source": [
    "players.head()"
   ]
  },
  {
   "cell_type": "code",
   "execution_count": 29,
   "id": "8b6a8566",
   "metadata": {},
   "outputs": [
    {
     "name": "stdout",
     "output_type": "stream",
     "text": [
      "<class 'pandas.core.frame.DataFrame'>\n",
      "RangeIndex: 2732 entries, 0 to 2731\n",
      "Data columns (total 8 columns):\n",
      " #   Column          Non-Null Count  Dtype \n",
      "---  ------          --------------  ----- \n",
      " 0   nflId           2732 non-null   int64 \n",
      " 1   height          2732 non-null   object\n",
      " 2   weight          2732 non-null   int64 \n",
      " 3   birthDate       2715 non-null   object\n",
      " 4   collegeName     2724 non-null   object\n",
      " 5   Position        2732 non-null   object\n",
      " 6   displayName     2732 non-null   object\n",
      " 7   height(inches)  2732 non-null   int64 \n",
      "dtypes: int64(3), object(5)\n",
      "memory usage: 170.9+ KB\n"
     ]
    }
   ],
   "source": [
    "players.info()"
   ]
  },
  {
   "cell_type": "code",
   "execution_count": 24,
   "id": "77219d7e",
   "metadata": {},
   "outputs": [],
   "source": [
    "import matplotlib.pyplot as plt"
   ]
  },
  {
   "cell_type": "code",
   "execution_count": 37,
   "id": "06b08251",
   "metadata": {},
   "outputs": [
    {
     "data": {
      "text/plain": [
       "Text(0.5, 1.0, 'Central Limit Theorem on players heights')"
      ]
     },
     "execution_count": 37,
     "metadata": {},
     "output_type": "execute_result"
    },
    {
     "data": {
      "image/png": "[encoded data removed]",
      "text/plain": [
       "<Figure size 1008x648 with 1 Axes>"
      ]
     },
     "metadata": {
      "needs_background": "light"
     },
     "output_type": "display_data"
    }
   ],
   "source": [
    "sample_amounts = range(10,100,20)\n",
    "\n",
    "plt.figure(figsize=(14,9))\n",
    "\n",
    "for x in sample_amounts:\n",
    "    samples = []\n",
    "    for i in range(1000):\n",
    "        samples.append(players[\"height(inches)\"].sample(x).mean())\n",
    "    plt.hist(samples)\n",
    "    \n",
    "\n",
    "    \n",
    "plt.legend([str(z)+\"samples\" for z in sample_amounts])\n",
    "plt.title(\"Central Limit Theorem on players heights\")"
   ]
  },
  {
   "cell_type": "code",
   "execution_count": 34,
   "id": "803dd5e8",
   "metadata": {},
   "outputs": [
    {
     "data": {
      "text/plain": [
       "73.9"
      ]
     },
     "execution_count": 34,
     "metadata": {},
     "output_type": "execute_result"
    }
   ],
   "source": [
    "players[\"height(inches)\"].sample(10).mean()"
   ]
  },
  {
   "cell_type": "markdown",
   "id": "4eb2594b",
   "metadata": {},
   "source": [
    "**Note:** Notice from the above samples distribution that all of samples are converging on what seems to be the population mean (73.9)\n",
    "\n",
    "**standard error**: it is a single metric that sums up the variability in a sampling distribution for a given statistic. It can be calculated by using standard deviastion - s and the number of values in the sample - n  \n",
    "\n",
    "SE = s/sqrt(n)\n",
    "\n",
    "As the number of samples increases the SE decreases (intuitively)\n",
    "\n",
    "SE in pandas is pd.series.sem()"
   ]
  },
  {
   "cell_type": "code",
   "execution_count": 38,
   "id": "f1bac6fc",
   "metadata": {},
   "outputs": [
    {
     "data": {
      "text/plain": [
       "0.05065243293253027"
      ]
     },
     "execution_count": 38,
     "metadata": {},
     "output_type": "execute_result"
    }
   ],
   "source": [
    "players[\"height(inches)\"].sem()"
   ]
  },
  {
   "cell_type": "code",
   "execution_count": 40,
   "id": "f90a908a",
   "metadata": {},
   "outputs": [
    {
     "data": {
      "text/plain": [
       "0.530516133987509"
      ]
     },
     "execution_count": 40,
     "metadata": {},
     "output_type": "execute_result"
    }
   ],
   "source": [
    "players[\"height(inches)\"].sample(20).sem()"
   ]
  },
  {
   "cell_type": "code",
   "execution_count": 41,
   "id": "2d7c7c21",
   "metadata": {},
   "outputs": [
    {
     "data": {
      "text/plain": [
       "0.37368728177105354"
      ]
     },
     "execution_count": 41,
     "metadata": {},
     "output_type": "execute_result"
    }
   ],
   "source": [
    "players[\"height(inches)\"].sample(60).sem()"
   ]
  },
  {
   "cell_type": "markdown",
   "id": "b74fec06",
   "metadata": {},
   "source": [
    "**Bootstrap Sampling** - this is a sampling method where you draw a sample and replace it back into the population and draw the next sampling from the pool. This means a single item can be drawn in any number of samples. This does not assume that the samples drawn are normally distributed \n",
    "\n",
    "It can be implemented using sklearn in python"
   ]
  },
  {
   "cell_type": "code",
   "execution_count": 42,
   "id": "3f4a9608",
   "metadata": {},
   "outputs": [],
   "source": [
    "from sklearn.utils import resample"
   ]
  },
  {
   "cell_type": "code",
   "execution_count": 43,
   "id": "22615e32",
   "metadata": {},
   "outputs": [
    {
     "name": "stdout",
     "output_type": "stream",
     "text": [
      "Bootstrap Statistics:\n",
      "\n",
      "original:\n",
      " 74.0\n",
      "bias:\n",
      " 0.0\n",
      "std error:\n",
      " 0.0\n"
     ]
    }
   ],
   "source": [
    "results =[]\n",
    "\n",
    "for i in range(1000):\n",
    "    sample = resample(players[\"height(inches)\"])\n",
    "    results.append(sample.median())\n",
    "    \n",
    "results = pd.Series(results)\n",
    "print(\"Bootstrap Statistics:\\n\")\n",
    "print(\"original:\\n\", players[\"height(inches)\"].median())\n",
    "print(\"bias:\\n\", results.mean()-players[\"height(inches)\"].median())\n",
    "print(\"std error:\\n\",results.std())"
   ]
  },
  {
   "cell_type": "code",
   "execution_count": 44,
   "id": "51fc0d2e",
   "metadata": {},
   "outputs": [
    {
     "data": {
      "text/plain": [
       "0.0"
      ]
     },
     "execution_count": 44,
     "metadata": {},
     "output_type": "execute_result"
    }
   ],
   "source": [
    "results.sem()"
   ]
  },
  {
   "cell_type": "code",
   "execution_count": null,
   "id": "e03d2b41",
   "metadata": {},
   "outputs": [],
   "source": [
    "# data is too well distributed so keeps giving the same median - so use mean"
   ]
  },
  {
   "cell_type": "code",
   "execution_count": 45,
   "id": "bf1da290",
   "metadata": {},
   "outputs": [
    {
     "name": "stdout",
     "output_type": "stream",
     "text": [
      "Bootstrap Statistics:\n",
      "\n",
      "original:\n",
      " 74.0\n",
      "bias:\n",
      " 0.011275622254771633\n",
      "std error:\n",
      " 0.050574414703766314\n"
     ]
    }
   ],
   "source": [
    "results =[]\n",
    "\n",
    "for i in range(1000):\n",
    "    sample = resample(players[\"height(inches)\"])\n",
    "    results.append(sample.mean()) #changing median to mean\n",
    "    \n",
    "results = pd.Series(results)\n",
    "print(\"Bootstrap Statistics:\\n\")\n",
    "print(\"original:\\n\", players[\"height(inches)\"].median())\n",
    "print(\"bias:\\n\", results.mean()-players[\"height(inches)\"].median())\n",
    "print(\"std error:\\n\",results.std())"
   ]
  },
  {
   "cell_type": "markdown",
   "id": "5c715c78",
   "metadata": {},
   "source": [
    "### Confidence Interval\n",
    "\n",
    "**Confidence Level**: is the percentage of confidence interval constructed in same way from same population that are expected to contain the statistic\n",
    "\n",
    "**Confidence Interval**: interval that is bound by the limits - for 95% confidence interval, 2.5% of start tail and 2.5% of bottom tail are tapered off\n",
    "\n",
    "CI can be calculated using the scipy library\n",
    "\n",
    "when we have a sample of size less than 30, we use a t-distribution\n",
    "\n",
    "greater than 30, we often assume its a normal distribution"
   ]
  },
  {
   "cell_type": "code",
   "execution_count": 46,
   "id": "a4aab625",
   "metadata": {},
   "outputs": [],
   "source": [
    "import scipy.stats as st"
   ]
  },
  {
   "cell_type": "code",
   "execution_count": 48,
   "id": "2716e3be",
   "metadata": {},
   "outputs": [
    {
     "data": {
      "text/plain": [
       "(71.6396036490789, 74.26039635092111)"
      ]
     },
     "execution_count": 48,
     "metadata": {},
     "output_type": "execute_result"
    }
   ],
   "source": [
    "# taking sample less than 30\n",
    "\n",
    "data = players[\"height(inches)\"][:20]\n",
    "\n",
    "st.t.interval(alpha=0.95,df = len(data)-1,loc=np.mean(data),scale=st.sem(data))"
   ]
  },
  {
   "cell_type": "code",
   "execution_count": 54,
   "id": "a5d54334",
   "metadata": {},
   "outputs": [
    {
     "data": {
      "text/plain": [
       "(73.89789226690411, 74.74210773309588)"
      ]
     },
     "execution_count": 54,
     "metadata": {},
     "output_type": "execute_result"
    }
   ],
   "source": [
    "## for larger samples\n",
    "np.random.seed(0)\n",
    "data = players[\"height(inches)\"][:150]\n",
    "\n",
    "#creating 95% of confidence interval for height in inches\n",
    "st.norm.interval(alpha=0.95,loc=np.mean(data),scale=st.sem(data))"
   ]
  },
  {
   "cell_type": "markdown",
   "id": "248b40f7",
   "metadata": {},
   "source": [
    "### Normal & Gaussian Distributions\n",
    "\n",
    "**Error**: is the difference between an instance and the predicted average value\n",
    "\n",
    "**Standardize**: Method of scaling data up or down\n",
    "\n",
    "**Z score**:number of standard deviations above/below the mean a value is\n",
    "\n",
    "**Q-Q Plots**: quantile quantile plots can be used to determine whether an sample is normally distributed. Thumb rule is if the qqplots are diagnolly aligned to upper right then the data is normally distributed. "
   ]
  },
  {
   "cell_type": "code",
   "execution_count": 55,
   "id": "fe76a783",
   "metadata": {},
   "outputs": [
    {
     "data": {
      "text/plain": [
       "((array([-2.46203784, -2.12570747, -1.93122778, -1.79044653, -1.67819304,\n",
       "         -1.58381122, -1.50174123, -1.42869743, -1.36256869, -1.30191411,\n",
       "         -1.24570419, -1.19317644, -1.14374949, -1.09696931, -1.05247413,\n",
       "         -1.00997067, -0.96921765, -0.93001393, -0.89218993, -0.85560121,\n",
       "         -0.82012357, -0.78564937, -0.75208458, -0.71934648, -0.68736185,\n",
       "         -0.65606548, -0.62539893, -0.59530962, -0.56574992, -0.53667655,\n",
       "         -0.50804994, -0.47983378, -0.45199463, -0.42450149, -0.39732558,\n",
       "         -0.37044003, -0.34381966, -0.31744076, -0.29128096, -0.26531902,\n",
       "         -0.23953472, -0.21390872, -0.18842244, -0.16305799, -0.13779803,\n",
       "         -0.1126257 , -0.08752455, -0.06247843, -0.03747145, -0.01248789,\n",
       "          0.01248789,  0.03747145,  0.06247843,  0.08752455,  0.1126257 ,\n",
       "          0.13779803,  0.16305799,  0.18842244,  0.21390872,  0.23953472,\n",
       "          0.26531902,  0.29128096,  0.31744076,  0.34381966,  0.37044003,\n",
       "          0.39732558,  0.42450149,  0.45199463,  0.47983378,  0.50804994,\n",
       "          0.53667655,  0.56574992,  0.59530962,  0.62539893,  0.65606548,\n",
       "          0.68736185,  0.71934648,  0.75208458,  0.78564937,  0.82012357,\n",
       "          0.85560121,  0.89218993,  0.93001393,  0.96921765,  1.00997067,\n",
       "          1.05247413,  1.09696931,  1.14374949,  1.19317644,  1.24570419,\n",
       "          1.30191411,  1.36256869,  1.42869743,  1.50174123,  1.58381122,\n",
       "          1.67819304,  1.79044653,  1.93122778,  2.12570747,  2.46203784]),\n",
       "  array([-2.55298982, -1.98079647, -1.7262826 , -1.70627019, -1.63019835,\n",
       "         -1.61389785, -1.53624369, -1.45436567, -1.42001794, -1.25279536,\n",
       "         -1.23482582, -1.18063218, -1.16514984, -1.07075262, -1.04855297,\n",
       "         -0.97727788, -0.90729836, -0.89546656, -0.88778575, -0.87079715,\n",
       "         -0.85409574, -0.81314628, -0.74216502, -0.68481009, -0.67246045,\n",
       "         -0.63432209, -0.57884966, -0.51080514, -0.50965218, -0.4380743 ,\n",
       "         -0.40317695, -0.40178094, -0.38732682, -0.36274117, -0.35955316,\n",
       "         -0.34791215, -0.31155253, -0.30230275, -0.21274028, -0.20515826,\n",
       "         -0.18718385, -0.17992484, -0.15135721, -0.10321885, -0.02818223,\n",
       "          0.01050002,  0.04575852,  0.0519454 ,  0.05616534,  0.06651722,\n",
       "          0.12167502,  0.12691209,  0.12898291,  0.14404357,  0.15494743,\n",
       "          0.15634897,  0.17742614,  0.20827498,  0.3024719 ,  0.3130677 ,\n",
       "          0.33367433,  0.3563664 ,  0.37816252,  0.3869025 ,  0.40015721,\n",
       "          0.40198936,  0.40234164,  0.4105985 ,  0.42833187,  0.44386323,\n",
       "          0.46278226,  0.46566244,  0.6536186 ,  0.70657317,  0.72909056,\n",
       "          0.76103773,  0.77749036,  0.8644362 ,  0.90082649,  0.95008842,\n",
       "          0.97663904,  0.97873798,  1.05445173,  1.13940068,  1.17877957,\n",
       "          1.20237985,  1.22244507,  1.23029068,  1.45427351,  1.46935877,\n",
       "          1.48825219,  1.49407907,  1.53277921,  1.76405235,  1.78587049,\n",
       "          1.86755799,  1.89588918,  1.9507754 ,  2.2408932 ,  2.26975462])),\n",
       " (1.0259489598178941, 0.059808015534484775, 0.9975363633367855))"
      ]
     },
     "execution_count": 55,
     "metadata": {},
     "output_type": "execute_result"
    },
    {
     "data": {
      "image/png": "[encoded data removed]",
      "text/plain": [
       "<Figure size 1008x648 with 1 Axes>"
      ]
     },
     "metadata": {
      "needs_background": "light"
     },
     "output_type": "display_data"
    }
   ],
   "source": [
    "##qq plot\n",
    "from scipy import stats\n",
    "fig,ax = plt.subplots(figsize=(14,9))\n",
    "norm_sample = stats.norm.rvs(size=100)\n",
    "stats.probplot(norm_sample,plot=ax)"
   ]
  },
  {
   "cell_type": "code",
   "execution_count": 57,
   "id": "83d3f2f0",
   "metadata": {},
   "outputs": [
    {
     "data": {
      "text/plain": [
       "((array([-2.46203784, -2.12570747, -1.93122778, -1.79044653, -1.67819304,\n",
       "         -1.58381122, -1.50174123, -1.42869743, -1.36256869, -1.30191411,\n",
       "         -1.24570419, -1.19317644, -1.14374949, -1.09696931, -1.05247413,\n",
       "         -1.00997067, -0.96921765, -0.93001393, -0.89218993, -0.85560121,\n",
       "         -0.82012357, -0.78564937, -0.75208458, -0.71934648, -0.68736185,\n",
       "         -0.65606548, -0.62539893, -0.59530962, -0.56574992, -0.53667655,\n",
       "         -0.50804994, -0.47983378, -0.45199463, -0.42450149, -0.39732558,\n",
       "         -0.37044003, -0.34381966, -0.31744076, -0.29128096, -0.26531902,\n",
       "         -0.23953472, -0.21390872, -0.18842244, -0.16305799, -0.13779803,\n",
       "         -0.1126257 , -0.08752455, -0.06247843, -0.03747145, -0.01248789,\n",
       "          0.01248789,  0.03747145,  0.06247843,  0.08752455,  0.1126257 ,\n",
       "          0.13779803,  0.16305799,  0.18842244,  0.21390872,  0.23953472,\n",
       "          0.26531902,  0.29128096,  0.31744076,  0.34381966,  0.37044003,\n",
       "          0.39732558,  0.42450149,  0.45199463,  0.47983378,  0.50804994,\n",
       "          0.53667655,  0.56574992,  0.59530962,  0.62539893,  0.65606548,\n",
       "          0.68736185,  0.71934648,  0.75208458,  0.78564937,  0.82012357,\n",
       "          0.85560121,  0.89218993,  0.93001393,  0.96921765,  1.00997067,\n",
       "          1.05247413,  1.09696931,  1.14374949,  1.19317644,  1.24570419,\n",
       "          1.30191411,  1.36256869,  1.42869743,  1.50174123,  1.58381122,\n",
       "          1.67819304,  1.79044653,  1.93122778,  2.12570747,  2.46203784]),\n",
       "  array([68, 68, 69, 70, 70, 70, 70, 71, 71, 71, 71, 71, 71, 71, 72, 72, 72,\n",
       "         72, 72, 72, 72, 72, 72, 72, 72, 73, 73, 73, 73, 73, 73, 73, 73, 73,\n",
       "         73, 73, 73, 73, 73, 73, 74, 74, 74, 74, 74, 74, 74, 74, 74, 74, 74,\n",
       "         74, 74, 75, 75, 75, 75, 75, 75, 75, 75, 75, 75, 75, 75, 75, 75, 75,\n",
       "         76, 76, 76, 76, 76, 76, 76, 76, 76, 76, 76, 76, 76, 76, 76, 77, 77,\n",
       "         77, 77, 77, 78, 78, 78, 78, 78, 78, 79, 79, 79, 79, 79, 80],\n",
       "        dtype=int64)),\n",
       " (2.5885634298989717, 74.24, 0.9917518970076186))"
      ]
     },
     "execution_count": 57,
     "metadata": {},
     "output_type": "execute_result"
    },
    {
     "data": {
      "image/png": "[encoded data removed]",
      "text/plain": [
       "<Figure size 1008x648 with 1 Axes>"
      ]
     },
     "metadata": {
      "needs_background": "light"
     },
     "output_type": "display_data"
    }
   ],
   "source": [
    "fig,ax = plt.subplots(figsize=(14,9))\n",
    "norm_sample = players[\"height(inches)\"].sample(100)\n",
    "stats.probplot(norm_sample,plot=ax)"
   ]
  },
  {
   "cell_type": "markdown",
   "id": "de8701a1",
   "metadata": {},
   "source": [
    "**Students t distribution**\n",
    "\n",
    "These are sample normal distributions with thicker tails. As the sample size tends to increase they start to look more like normal distributions\n",
    "\n",
    "**Binomial Distribution**\n",
    "\n",
    "A lot of data science use cases follow binomial distributions like buy/dont buy, click/dont click etc\n",
    "\n",
    "It can used to find out how many successes we can expect for given number of trials with a given success probability \n",
    "\n",
    "**PMF**\n",
    "\n",
    "Probability mass functions tells us the probabilty that an event will happen a certain number of times given a certain number of samples and a probability for success\n",
    "\n",
    "**CDF**\n",
    "\n",
    "Cumulative Density Function tells us the probability that an event will happen certain number or fewer times \n",
    "\n",
    "pmf - exactly given number of times \n",
    "\n",
    "cdf - given number of times or less"
   ]
  },
  {
   "cell_type": "code",
   "execution_count": 61,
   "id": "cf658d9c",
   "metadata": {},
   "outputs": [
    {
     "data": {
      "text/plain": [
       "0.07289999999999992"
      ]
     },
     "execution_count": 61,
     "metadata": {},
     "output_type": "execute_result"
    }
   ],
   "source": [
    "stats.binom.pmf(2,n=5,p=0.1)"
   ]
  },
  {
   "cell_type": "markdown",
   "id": "e6e9006d",
   "metadata": {},
   "source": [
    " 2- is the number of successes we are expecting\n",
    " \n",
    " 5 - is number of trials being conducted\n",
    " \n",
    " p is probability of success\n",
    " \n",
    "**example use case** - given a probability of user clicking on an add is 0.1, what is the probability of 2 users clicking on the ad for 5 trials "
   ]
  },
  {
   "cell_type": "code",
   "execution_count": 59,
   "id": "81d5af48",
   "metadata": {},
   "outputs": [
    {
     "data": {
      "text/plain": [
       "0.99144"
      ]
     },
     "execution_count": 59,
     "metadata": {},
     "output_type": "execute_result"
    }
   ],
   "source": [
    "stats.binom.cdf(2,n=5,p=0.1)"
   ]
  },
  {
   "cell_type": "markdown",
   "id": "419d6623",
   "metadata": {},
   "source": [
    "\n",
    "### Additional reading:\n",
    "\n",
    "Chi Square Distribution(Is a way of testing abnormality using significance test)\n",
    "\n",
    "F distribution\n",
    "\n",
    "ANOVA testing \n",
    "\n",
    "**Poisson distribution** : are used to simulate the probability of certain number of events happening in a given time or space, given that we know the average number of occurances of that event within a time or space. Each instance should be independent of the other instances\n",
    "\n",
    "Example: call center calls - if we know that a call center receives 2 calls per minute, what is the number of calls received by the call center in each minute of a 100 minute interval.\n",
    "\n",
    "Lambda =2"
   ]
  },
  {
   "cell_type": "code",
   "execution_count": 63,
   "id": "e3d49d57",
   "metadata": {},
   "outputs": [
    {
     "data": {
      "text/plain": [
       "102"
      ]
     },
     "execution_count": 63,
     "metadata": {},
     "output_type": "execute_result"
    }
   ],
   "source": [
    "stats.poisson.rvs(2,100)"
   ]
  },
  {
   "cell_type": "markdown",
   "id": "f40ede07",
   "metadata": {},
   "source": [
    "**Exponential Distribution**:\n",
    "\n",
    "(Its opposite to Poisson distribution but use cases are similar)\n",
    "\n",
    "It focuses on outputing the time between each occurance given a mean number of instances for a time period and a number of time periods to simulate\n",
    "\n",
    "What is the number of minutes between each phone call in a 100 minute interval, given there are 0.2 phone calls per minute?"
   ]
  },
  {
   "cell_type": "code",
   "execution_count": 64,
   "id": "8d5b2ea5",
   "metadata": {},
   "outputs": [
    {
     "data": {
      "text/plain": [
       "82.85183032873852"
      ]
     },
     "execution_count": 64,
     "metadata": {},
     "output_type": "execute_result"
    }
   ],
   "source": [
    "stats.expon.rvs(0.2,100)"
   ]
  },
  {
   "cell_type": "markdown",
   "id": "51ecd354",
   "metadata": {},
   "source": [
    "**Weibull Distribution**\n",
    "\n",
    "As opposed to Poisson and Exponential distribution which can only be used in use cases where each instance is independent of another, Weibull can be used for dependent instances. For example Engine failure data. \n",
    "\n",
    "It has a shape parameter (beta) - failure rates \n",
    "\n",
    "\n",
    "Number of failures that an engine will have over time?"
   ]
  },
  {
   "cell_type": "code",
   "execution_count": 66,
   "id": "f1c35897",
   "metadata": {},
   "outputs": [
    {
     "data": {
      "text/plain": [
       "array([ 6911.32488658,  2277.57546563,  1211.25714879,  2730.23607334,\n",
       "        5453.58846631,  5184.9658576 ,  7645.39560285,  9994.83264181,\n",
       "        5385.54539679,  7851.34823122,  2264.25731235,  3494.7341971 ,\n",
       "        2634.95151984,  6454.25959977,  6193.23470825,  3204.28886237,\n",
       "        5321.70407459,   278.47546135,  8889.49741891,  3354.83365482,\n",
       "        8881.89722057,   647.53772542,   983.60930738,  3915.21842827,\n",
       "        1990.43469905,  5986.16842892,  5483.49538659,  4986.85161271,\n",
       "        7504.60408494,  7601.60941236,  2318.30553177,  1981.97407423,\n",
       "        5429.46425749,  1187.59849536,  1854.89170971,  8474.17204588,\n",
       "        5093.94675434,  1815.3685788 ,  5501.88827364,  1747.62252339,\n",
       "        5051.27492419,  1955.50417015,  5803.60193222, 12660.89545589,\n",
       "        3852.3447566 ,  5276.94071392, 18790.97520709,  3205.29879746,\n",
       "        7032.76231183,  1132.63993614,   259.24123037, 11245.36604789,\n",
       "        4783.15147737,  2986.63506998,  3595.88776117,  1158.20812927,\n",
       "         470.45661638,  6295.79464891,  4191.74046169,  8696.27345672,\n",
       "        4817.6467949 ,  3680.10153477,  4686.06472381,  5084.18244007,\n",
       "        2767.05185681,  4987.40352765,  2779.64908108,  8923.08076502,\n",
       "        1994.19430097,  2136.78416135,  6100.25833497,  6558.75736363,\n",
       "        4028.29999642,  5501.79340506,  2751.5405711 ,  2052.62770696,\n",
       "        5094.34110001,  4107.67304206,  8517.80622107,  3824.7701396 ,\n",
       "        1184.30242061,  6738.81664671,  2989.77513583,  2187.00852293,\n",
       "        4226.22649483,  1155.1471433 ,   718.88044806,  4874.81160753,\n",
       "         577.11146797,  4745.35969017,  2240.28326387, 11231.37291994,\n",
       "        4029.81460368,  6512.93721249,  3478.69896559,  9988.96201479,\n",
       "         378.22854523,  8771.28677484,  1122.24183475,   436.63511434])"
      ]
     },
     "execution_count": 66,
     "metadata": {},
     "output_type": "execute_result"
    }
   ],
   "source": [
    "#simulating 100 lifetimes with a shape of 1.5 and characteristic life of 5000\n",
    "\n",
    "stats.weibull_min.rvs(1.5,scale=5000,size=100)"
   ]
  },
  {
   "cell_type": "markdown",
   "id": "a565c878",
   "metadata": {},
   "source": [
    "*** To be continued***"
   ]
  },
  {
   "cell_type": "code",
   "execution_count": null,
   "id": "cb7f7cfd",
   "metadata": {},
   "outputs": [],
   "source": []
  }
 ],
 "metadata": {
  "kernelspec": {
   "display_name": "Python 3 (ipykernel)",
   "language": "python",
   "name": "python3"
  },
  "language_info": {
   "codemirror_mode": {
    "name": "ipython",
    "version": 3
   },
   "file_extension": ".py",
   "mimetype": "text/x-python",
   "name": "python",
   "nbconvert_exporter": "python",
   "pygments_lexer": "ipython3",
   "version": "3.9.12"
  }
 },
 "nbformat": 4,
 "nbformat_minor": 5
}
